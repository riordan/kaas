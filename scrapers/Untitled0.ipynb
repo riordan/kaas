{
 "metadata": {
  "name": "",
  "signature": "sha256:1be3094964db3c798f2fddd60165ed8fed2cb3573771e1e93aa6e4ead989e448"
 },
 "nbformat": 3,
 "nbformat_minor": 0,
 "worksheets": [
  {
   "cells": [
    {
     "cell_type": "code",
     "collapsed": false,
     "input": [
      "# Scraper for Karaoke Duet"
     ],
     "language": "python",
     "metadata": {},
     "outputs": []
    }
   ],
   "metadata": {}
  }
 ]
}